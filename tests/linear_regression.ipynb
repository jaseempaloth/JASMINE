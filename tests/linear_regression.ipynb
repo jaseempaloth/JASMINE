{
 "cells": [
  {
   "cell_type": "code",
   "execution_count": null,
   "metadata": {},
   "outputs": [],
   "source": [
    "import jax\n",
    "import jax.numpy as jnp\n",
    "from sklearn.datasets import make_regression\n",
    "from sklearn.model_selection import train_test_split\n",
    "from sklearn.preprocessing import StandardScaler"
   ]
  },
  {
   "cell_type": "code",
   "execution_count": 2,
   "metadata": {},
   "outputs": [],
   "source": [
    "X, y = make_regression(n_samples=1000, n_features=20, noise=0.1)\n",
    "X_train, X_test, y_train, y_test = train_test_split(X, y, test_size=0.2, random_state=42)"
   ]
  },
  {
   "cell_type": "code",
   "execution_count": 3,
   "metadata": {},
   "outputs": [
    {
     "data": {
      "text/plain": [
       "array([[-1.02077309, -0.48696616, -0.48421983, ..., -1.38741447,\n",
       "        -1.3479442 ,  0.75929868],\n",
       "       [ 0.54267285, -0.56201687, -0.84109614, ...,  0.42826231,\n",
       "         1.18534808,  0.4762074 ],\n",
       "       [ 0.56625935,  1.08510127, -0.01581252, ...,  0.87658043,\n",
       "         0.49213668,  0.42274501],\n",
       "       ...,\n",
       "       [ 0.9860877 , -0.25821279,  2.02669309, ...,  1.085418  ,\n",
       "        -0.70901641,  1.27596923],\n",
       "       [ 0.74752392,  0.77974478,  1.69728358, ...,  1.03238153,\n",
       "        -1.33953144, -0.78206895],\n",
       "       [-0.00640283,  0.77753109, -0.4224415 , ...,  0.54716341,\n",
       "        -1.571583  ,  0.42241783]])"
      ]
     },
     "execution_count": 3,
     "metadata": {},
     "output_type": "execute_result"
    }
   ],
   "source": [
    "X_train"
   ]
  },
  {
   "cell_type": "code",
   "execution_count": 33,
   "metadata": {},
   "outputs": [
    {
     "name": "stdout",
     "output_type": "stream",
     "text": [
      "29019.84\n",
      "23508.777\n",
      "19065.955\n",
      "15480.141\n",
      "12582.683\n",
      "10238.759\n",
      "8340.475\n",
      "6801.378\n",
      "5552.12\n",
      "4537.0073\n",
      "3711.2622\n",
      "3038.841\n",
      "2490.697\n",
      "2043.3971\n",
      "1678.0146\n",
      "1379.2472\n",
      "1134.7075\n",
      "934.3578\n",
      "770.05585\n",
      "635.18884\n",
      "524.3813\n",
      "433.2588\n",
      "358.2573\n",
      "296.47156\n",
      "245.52925\n",
      "203.49213\n",
      "168.77545\n",
      "140.08128\n",
      "116.34631\n",
      "96.69847\n",
      "80.421906\n",
      "66.92818\n",
      "55.7336\n",
      "46.43998\n",
      "38.719227\n",
      "32.30098\n",
      "26.96207\n",
      "22.51808\n",
      "18.816814\n",
      "15.732281\n",
      "13.160183\n",
      "11.014235\n",
      "9.222804\n",
      "7.726504\n",
      "6.476105\n",
      "5.430629\n",
      "4.556072\n",
      "3.8241634\n",
      "3.2113106\n",
      "2.697968\n",
      "2.2677352\n",
      "1.9070276\n",
      "1.6044858\n",
      "1.3506162\n",
      "1.1375304\n",
      "0.95858437\n",
      "0.8082756\n",
      "0.6819602\n",
      "0.5757848\n",
      "0.4865\n",
      "0.41141036\n",
      "0.3482236\n",
      "0.29504904\n",
      "0.2502865\n",
      "0.2125924\n",
      "0.18084738\n",
      "0.15410051\n",
      "0.13156472\n",
      "0.11257393\n",
      "0.096566215\n",
      "0.08306889\n",
      "0.071688905\n",
      "0.062092837\n",
      "0.05400071\n",
      "0.04717503\n",
      "0.0414176\n",
      "0.036560718\n",
      "0.032465078\n",
      "0.029010946\n",
      "0.02609632\n",
      "0.023637494\n",
      "0.021564374\n",
      "0.019816428\n",
      "0.018341115\n",
      "0.017099304\n",
      "0.016050981\n",
      "0.015168404\n",
      "0.014424893\n",
      "0.013798906\n",
      "0.013271661\n",
      "0.012829266\n",
      "0.012456546\n",
      "0.012143085\n",
      "0.01188058\n",
      "0.011660062\n",
      "0.011475269\n",
      "0.011320574\n",
      "0.0111910375\n",
      "0.011082677\n",
      "0.010993105\n"
     ]
    }
   ],
   "source": [
    "params = {\n",
    "    'w': jnp.zeros(X.shape[1:]),\n",
    "    'b': 0.\n",
    "}\n",
    "\n",
    "def forward(params, X):\n",
    "    return jnp.dot(X, params['w']) + params['b']\n",
    "\n",
    "@jax.jit\n",
    "def loss_fn(params, X, y):\n",
    "    error = forward(params, X) - y\n",
    "    return jnp.mean(jnp.square(error))\n",
    "grad_fn = jax.grad(loss_fn)\n",
    "\n",
    "for _ in range(100):\n",
    "    loss = loss_fn(params, X_test, y_test)  # Monitor loss on test data\n",
    "    print(loss)\n",
    "    grads = grad_fn(params, X_train, y_train)  # Compute gradients on train data\n",
    "    params['w'] -= 0.05 * grads['w']  # Update weights\n",
    "    params['b'] -= 0.05 * grads['b']  # Update bias\n",
    "\n",
    "\n"
   ]
  },
  {
   "cell_type": "code",
   "execution_count": null,
   "metadata": {},
   "outputs": [],
   "source": []
  },
  {
   "cell_type": "code",
   "execution_count": null,
   "metadata": {},
   "outputs": [],
   "source": []
  }
 ],
 "metadata": {
  "kernelspec": {
   "display_name": "base",
   "language": "python",
   "name": "python3"
  },
  "language_info": {
   "codemirror_mode": {
    "name": "ipython",
    "version": 3
   },
   "file_extension": ".py",
   "mimetype": "text/x-python",
   "name": "python",
   "nbconvert_exporter": "python",
   "pygments_lexer": "ipython3",
   "version": "3.12.4"
  }
 },
 "nbformat": 4,
 "nbformat_minor": 2
}
